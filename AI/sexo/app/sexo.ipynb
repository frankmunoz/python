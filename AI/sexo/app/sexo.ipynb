{
 "cells": [
  {
   "cell_type": "code",
   "execution_count": 3,
   "metadata": {},
   "outputs": [
    {
     "name": "stdout",
     "output_type": "stream",
     "text": [
      "******************************************************************************************************************************************\n",
      "* Programa que hace uso de AI para determinar el sexo de una persona según las características de Altura, Peso y Talla de calzado\n",
      "******************************************************************************************************************************************\n",
      "Ingrese su Altura: 163\n",
      "Ingrese su Peso: 73\n",
      "Ingrese su Talla de calzado: 37\n",
      "Según los datos ingresados el sexo es:  ['mujer']\n"
     ]
    }
   ],
   "source": [
    "from sklearn import tree\n",
    "\n",
    "import os\n",
    "\n",
    "#Definimos la función estableciendo el nombre limpiarPantalla, no recibe parámetros\n",
    "def limpiarPantalla(): \n",
    "    if os.name == \"posix\":\n",
    "        os.system (\"clear\")\n",
    "    elif os.name == \"ce\" or os.name == \"nt\" or os.name == \"dos\":\n",
    "       os.system (\"cls\")\n",
    "\n",
    "#Se crea la instancia del árbol de decisión.\n",
    "clf = tree.DecisionTreeClassifier()\n",
    "\n",
    "#[altura, peso, talla de zapato]\n",
    "X = [[181, 80, 44], [177, 70, 43], [160, 60, 38], [154, 54, 37], [166, 65, 40],\n",
    "     [190, 90, 47], [175, 64, 39],\n",
    "     [177, 70, 40], [159, 55, 37], [171, 75, 42], [181, 85, 43]]\n",
    "#La salida donde se dice si es hombre o mujer\n",
    "Y = ['hombre', 'hombre', 'mujer', 'mujer', 'hombre', 'hombre', 'mujer', 'mujer',\n",
    "     'mujer', 'hombre', 'hombre']\n",
    "\n",
    "#Se le pasa los datos  X y Y\n",
    "clf = clf.fit(X, Y)\n",
    "\n",
    "#Se limpia la pantalla\n",
    "limpiarPantalla()\n",
    "\n",
    "#Se presenta el programa\n",
    "print(\"******************************************************************************************************************************************\")\n",
    "print(\"* Programa que hace uso de AI para determinar el sexo de una persona según las características de Altura, Peso y Talla de calzado\")\n",
    "print(\"******************************************************************************************************************************************\")\n",
    "\n",
    "#Se captura la altura por consola\n",
    "altura = int(input(\"Ingrese su Altura: \"))\n",
    "\n",
    "#Se captura el peso por consola\n",
    "peso = int(input(\"Ingrese su Peso: \"))\n",
    "\n",
    "#Se captura la talla de calzado por consola\n",
    "calzado = int(input(\"Ingrese su Talla de calzado: \"))\n",
    "\n",
    "#Se ingresan en el arreglo los datos capturados en el orden establecido (altura, peso y calzado)\n",
    "datos = [altura,peso,calzado]\n",
    "\n",
    "#Se envía el arreglo al objeto clf en su método predict donde se conmnutan los datos ingresados \n",
    "prediction = clf.predict([datos])\n",
    "\n",
    "#Se muestra el resultado de la predicción de los datos ingresados\n",
    "print('Según los datos ingresados el sexo es: ', prediction)\n"
   ]
  },
  {
   "cell_type": "code",
   "execution_count": null,
   "metadata": {},
   "outputs": [],
   "source": []
  },
  {
   "cell_type": "code",
   "execution_count": null,
   "metadata": {},
   "outputs": [],
   "source": []
  },
  {
   "cell_type": "code",
   "execution_count": null,
   "metadata": {},
   "outputs": [],
   "source": []
  },
  {
   "cell_type": "code",
   "execution_count": null,
   "metadata": {},
   "outputs": [],
   "source": []
  },
  {
   "cell_type": "code",
   "execution_count": 6,
   "metadata": {},
   "outputs": [],
   "source": []
  },
  {
   "cell_type": "code",
   "execution_count": null,
   "metadata": {},
   "outputs": [],
   "source": []
  },
  {
   "cell_type": "code",
   "execution_count": null,
   "metadata": {},
   "outputs": [],
   "source": []
  }
 ],
 "metadata": {
  "kernelspec": {
   "display_name": "Python 3",
   "language": "python",
   "name": "python3"
  },
  "language_info": {
   "codemirror_mode": {
    "name": "ipython",
    "version": 3
   },
   "file_extension": ".py",
   "mimetype": "text/x-python",
   "name": "python",
   "nbconvert_exporter": "python",
   "pygments_lexer": "ipython3",
   "version": "3.7.4"
  }
 },
 "nbformat": 4,
 "nbformat_minor": 2
}
